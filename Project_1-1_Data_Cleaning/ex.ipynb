{
 "cells": [
  {
   "cell_type": "markdown",
   "metadata": {},
   "source": [
    "# <center> Face Mask Detection\n",
    "<center> <img src=https://raw.githubusercontent.com/Vrushti24/Face-Mask-Detection/logo/Logo/facemaskdetection.ai%20%40%2051.06%25%20(CMYK_GPU%20Preview)%20%2018-02-2021%2018_33_18%20(2).png wight=300 height=250> </center>\n",
    "\n",
    "## sdlk;\n",
    "\n",
    "<center> <img src=https://raw.githubusercontent.com/chandrikadeb7/Face-Mask-Detection/master/Readme_images/Screen%20Shot%202020-05-14%20at%208.49.06%20PM.png wight=500 height=300> </center>\n"
   ]
  }
 ],
 "metadata": {
  "kernelspec": {
   "display_name": "Python 3.9.12 ('base')",
   "language": "python",
   "name": "python3"
  },
  "language_info": {
   "name": "python",
   "version": "3.9.12"
  },
  "orig_nbformat": 4,
  "vscode": {
   "interpreter": {
    "hash": "16f5b46f222e2a3e8d4adbf7141cae37b71ed37616e60735fa5d1164a1bc3ada"
   }
  }
 },
 "nbformat": 4,
 "nbformat_minor": 2
}
