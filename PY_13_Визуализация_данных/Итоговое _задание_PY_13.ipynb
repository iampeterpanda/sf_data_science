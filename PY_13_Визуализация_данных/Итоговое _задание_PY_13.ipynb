{
 "cells": [
  {
   "cell_type": "markdown",
   "metadata": {},
   "source": [
    "# Итоговое задание. Визуализация данных"
   ]
  },
  {
   "cell_type": "code",
   "execution_count": null,
   "metadata": {},
   "outputs": [],
   "source": [
    "import pandas as pd\n",
    "import plotly\n",
    "import plotly.express as px\n",
    "churn_data = pd.read_csv('data/churn.csv')\n",
    "#churn_data = churn_data.reset_index(drop=True)\n",
    "churn_data['Exited_txt'] = churn_data['Exited'].map({1: 'Ушедшие', 0: 'Лояльные'})\n",
    "churn_data.head()\n",
    "#churn_data.info()"
   ]
  },
  {
   "cell_type": "markdown",
   "metadata": {},
   "source": [
    "# Задание 9.1 . Каково соотношение ушедших и лояльных клиентов? Покажите это на графике и дайте комментарий по соотношению."
   ]
  },
  {
   "cell_type": "code",
   "execution_count": null,
   "metadata": {},
   "outputs": [],
   "source": [
    "fig = px.pie(churn_data,\n",
    "             names='Exited_txt',\n",
    "             height=500,\n",
    "             width=1000,\n",
    "             title='Соотношение ушедших и лояльныцх клиентов'\n",
    ")\n",
    "fig.show()"
   ]
  },
  {
   "cell_type": "markdown",
   "metadata": {},
   "source": [
    "### Вывод: Количество ушедших клиентов составляет ~1/5 от общего количества клиентов представленных в базе. Интересно было бы посмотреть распределение признака во времени, чтобы понять является ли это естесственным прооцессом или уход был единовременным и массовым по какой либо причине\n"
   ]
  },
  {
   "cell_type": "markdown",
   "metadata": {},
   "source": [
    "# 9.2. Постройте график, показывающий распределение баланса пользователей, у которых на счету больше 2 500 долларов. Опишите распределение и сделайте выводы."
   ]
  },
  {
   "cell_type": "code",
   "execution_count": null,
   "metadata": {},
   "outputs": [],
   "source": [
    "balanse_data = churn_data[churn_data['Balance']>2500]\n",
    "fig = px.histogram(\n",
    "    balanse_data,\n",
    "    x='Balance',\n",
    "    nbins=15,\n",
    "    height=500,\n",
    "    width=1000,\n",
    "    title=\"Распределение баланса пользователей, у которых на счету больше 2 500 долларов\"\n",
    ")\n",
    "fig.update_layout(xaxis_title=\"Баланс\", yaxis_title=\"Количество клиентов\")   \n",
    "fig.show()\n"
   ]
  },
  {
   "cell_type": "markdown",
   "metadata": {},
   "source": [
    "### Вывод: кривая распределения довольно гладкая соответствует нормальному распределению, что говорит о стабильности процесса. Можно сделать вывод, что средний класс обладает сбережениями от 80 до 140 тысяч. \n",
    "\n",
    "\n"
   ]
  },
  {
   "cell_type": "markdown",
   "metadata": {},
   "source": [
    "# 9.3. Посмотрите на распределение баланса клиента в разрезе признака оттока. Как различаются суммы на накопительном счёте ушедших и лояльных клиентов? Подумайте и напишите, с чем это может быть связано, что может не устраивать ушедших клиентов в банке."
   ]
  },
  {
   "cell_type": "code",
   "execution_count": null,
   "metadata": {},
   "outputs": [],
   "source": [
    "import matplotlib.pyplot as plt\n",
    "import seaborn as sns\n",
    "fig_3, axes_3 = plt.subplots(nrows=2, ncols=1, figsize=(15,14))\n",
    "histplot = sns.histplot(\n",
    "    churn_data,\n",
    "    x='Balance',\n",
    "    hue='Exited_txt',\n",
    "    ax=axes_3[0],\n",
    "    palette=['blue', 'red']\n",
    ")\n",
    "histplot.set_title('Рис.1 Гисторгамма распределения баланса в зависимости от лояльности клиента')\n",
    "histplot.set_ylabel('Количество клиентов, чел')\n",
    "histplot.set_xlabel('Баланс, $')\n",
    "histplot.grid()\n",
    "\n",
    "boxplot = sns.boxplot(\n",
    "    data=churn_data,\n",
    "    y='Exited_txt',\n",
    "    x='Balance',\n",
    "    orient='h',\n",
    "    ax=axes_3[1],\n",
    "    palette=['blue', 'red']\n",
    ")\n",
    "boxplot.set_title('Рис.2 Коробчатая распределения баланса в зависимости от лояльности клиента')\n",
    "boxplot.set_ylabel('')\n",
    "boxplot.set_xlabel('Баланс, $')\n",
    "boxplot.grid();\n",
    "\n"
   ]
  },
  {
   "cell_type": "markdown",
   "metadata": {},
   "source": [
    "### Выводы: Из гистограммы мы видим нормальное распределение, потенциальный выброс - большое количество клиентов с нулевым балансом. если речь идет о кредитных картах, то для ушедших клиентов нулевой баланс может обернуться потенциальной проблемой. Так же мы видим более низкий график у ушедших клиентов. Графики распределения у лояльных и ушедших клиентов примерно одинаковы, думаю это все таки кредитные карты и положительный баланс у ушедших клиентов является неизрасходованным кредитным лимитом Из рисунка 2 видно, что активные клиенты гораздо чаще тратят деньги и пополняют баланс, медианы примерно равные.\n",
    " "
   ]
  },
  {
   "cell_type": "markdown",
   "metadata": {},
   "source": [
    "# 9.4. Посмотрите на распределение возраста в разрезе признака оттока. В какой группе больше потенциальных выбросов? На какую возрастную категорию клиентов стоит обратить внимание банку?"
   ]
  },
  {
   "cell_type": "code",
   "execution_count": null,
   "metadata": {},
   "outputs": [],
   "source": [
    "fig = px.box(\n",
    "    churn_data, \n",
    "    y='Age', \n",
    "    x='Exited_txt',\n",
    "    height=500,\n",
    "    width=1000,\n",
    "    color='Exited_txt',\n",
    "    title=\"Распределение возраста в разрезе признака оттока клиентов\"\n",
    "    )\n",
    "fig.update_layout(xaxis_title=\"\", yaxis_title=\"Возраст\")  \n",
    "fig.show()"
   ]
  },
  {
   "cell_type": "markdown",
   "metadata": {},
   "source": [
    "### Выводы:  Основная масса лояльных клиентов сосредоточена в возрасте от 31 до 41 года. Потенциальных выбросов больше в группе лояльных клиентов, от 57 до 92х лет. На месте банка я бы обратил внимание на возрастную группу от40 до 50 лет, так как основная масса ушедших клиентов находится там, возможно банк позиционирует себя как молодежный и у них нет продуктов интересующих данную возрастную категорию"
   ]
  },
  {
   "cell_type": "markdown",
   "metadata": {},
   "source": [
    "#  9.5 Постройте график, который показывает взаимосвязь кредитного рейтинга клиента и его предполагаемой зарплаты. Добавьте расцветку по признаку оттока клиентов. Какова взаимосвязь между признаками? Если не видите явной взаимосвязи, укажите это."
   ]
  },
  {
   "cell_type": "code",
   "execution_count": null,
   "metadata": {},
   "outputs": [],
   "source": [
    "fig = px.scatter(\n",
    "    churn_data, \n",
    "    x=\"CreditScore\", \n",
    "    y=\"EstimatedSalary\",\n",
    "    height=500,\n",
    "    width=1000, \n",
    "    color=\"Exited_txt\",\n",
    "    title=\"Взаимосвязь кредитного рейтинга клиента и его предполагаемой зарплаты\"\n",
    ")\n",
    "fig.update_layout(xaxis_title=\"Кредитный рейтинг\", yaxis_title=\"Предполагаемая зарплата\")  \n",
    "fig.show()"
   ]
  },
  {
   "cell_type": "markdown",
   "metadata": {},
   "source": [
    "### Выводы: ссудя по данной диаграмме(так как распределение достаточно равномерное и нет ярко выраженных групп), прямой взаимосвязи между признаками нет или я не умею ее читать"
   ]
  },
  {
   "cell_type": "markdown",
   "metadata": {},
   "source": [
    "# 9.6. Кто чаще уходит, мужчины или женщины? Постройте график, который иллюстрирует это."
   ]
  },
  {
   "cell_type": "code",
   "execution_count": null,
   "metadata": {},
   "outputs": [],
   "source": [
    "gender_data = churn_data.groupby(['Gender'], as_index=False).mean()\n",
    "fig = px.bar(\n",
    "    gender_data, \n",
    "    x='Gender',\n",
    "    y='Exited',\n",
    "    height=500,\n",
    "    width=1000,\n",
    "    color=\"Gender\",\n",
    "    title=\"Ушедшие клиенты в разрезе признака пол\"\n",
    ")\n",
    "fig.update_layout(xaxis_title=\"\", yaxis_title=\"Доля ушедших клиентов\")\n",
    "fig.show()"
   ]
  },
  {
   "cell_type": "markdown",
   "metadata": {},
   "source": [
    "### Выводы: Чаще уходят женщины 25% от общего числа клиентов женского пола ушли"
   ]
  },
  {
   "cell_type": "markdown",
   "metadata": {},
   "source": [
    "#  9.7 Как отток клиентов зависит от числа приобретённых у банка услуг? Для ответа на этот вопрос постройте многоуровневую столбчатую диаграмму"
   ]
  },
  {
   "cell_type": "code",
   "execution_count": null,
   "metadata": {},
   "outputs": [],
   "source": [
    "bar_data = churn_data.groupby(['NumOfProducts', 'Exited'], as_index=False).count()\n",
    "\n",
    "fig = px.bar(\n",
    "    bar_data, \n",
    "    x='NumOfProducts',\n",
    "    y='RowNumber',\n",
    "    height=500,\n",
    "    width=1000,\n",
    "    color=\"Exited\",\n",
    "    barmode='group',\n",
    "    title=\"Зависимость оттока клиентов от числа приобретённых у банка услуг.\"\n",
    ")\n",
    "fig.update_layout(xaxis_title=\"количество услуг\", yaxis_title=\"Количество клиентов\")\n",
    "fig.show()"
   ]
  },
  {
   "cell_type": "markdown",
   "metadata": {},
   "source": [
    "### Выводы: Примерно треть клиентов ушла после приобретения уже первой услуги. Оптимальное соотношение во второй группе. в основном все клиенты использующие 3 и более услуг ушли."
   ]
  },
  {
   "cell_type": "markdown",
   "metadata": {},
   "source": [
    "# 9.8. Как влияет наличие статуса активного клиента на отток клиентов? Постройте диаграмму, иллюстрирующую это. Что бы вы предложили банку, чтобы уменьшить отток клиентов среди неактивных?"
   ]
  },
  {
   "cell_type": "code",
   "execution_count": null,
   "metadata": {},
   "outputs": [],
   "source": [
    "bar_data=churn_data.groupby(['IsActiveMember'], as_index=False)['Exited'].sum()\n",
    "fig = px.bar(\n",
    "    bar_data, \n",
    "    x='IsActiveMember',\n",
    "    y='Exited',\n",
    "    height=500,\n",
    "    width=1000,\n",
    "    color=\"IsActiveMember\",\n",
    "    title=\"Влияние статуса активного пользователя на отток клиентов.\"\n",
    ")\n",
    "\n",
    "fig.show()\n"
   ]
  },
  {
   "cell_type": "markdown",
   "metadata": {},
   "source": [
    "### Выводы: Из графика видно, что люди имеющие статус активного пользователя перестают пользоваться услугими банка почти вдвое реже, соответстванно логично было бы предложить банку разработать пакет мероприятий поднимающих активность среди неактивных пользователей(интересный кэшбек, челленджи и прочее.)"
   ]
  },
  {
   "cell_type": "markdown",
   "metadata": {},
   "source": [
    "# 9.9. В какой стране доля ушедших клиентов больше? Постройте тепловую картограмму, которая покажет это соотношение на карте мира. Предположите, с чем это может быть связано."
   ]
  },
  {
   "cell_type": "code",
   "execution_count": null,
   "metadata": {},
   "outputs": [],
   "source": [
    "churn_countries = churn_data.groupby(['Geography'], as_index=False)[['Exited']].mean()\n",
    "display(churn_countries)\n",
    "\n",
    "fig = px.choropleth(\n",
    "    churn_countries,\n",
    "    locations='Geography',\n",
    "    locationmode='country names',\n",
    "    color='Exited',\n",
    "    height=500,\n",
    "    width=1000,\n",
    "    range_color=[0, 0.5],\n",
    "    color_continuous_scale='YlGnBu',\n",
    "    title='Распределение доли ушедших клиентов в странах присутствая банка'\n",
    "    \n",
    ")\n",
    "fig.show()"
   ]
  },
  {
   "cell_type": "markdown",
   "metadata": {},
   "source": [
    "### Выводы: из графика видно, что максимальнаядоля ушедших клиентов приходится на Германию. Если взять за нормальность процент ушедших клиентов во Франции и Испании(там они примерно одинаковые), можно предположить что либо в Германии упало качество обслуживания клиентовб либо усилил свою акционную уктивность и тем самым повысил привлекательность для внутренних клиентов какой то местный банк"
   ]
  },
  {
   "cell_type": "markdown",
   "metadata": {},
   "source": [
    "# 9.10 Постройте сводную таблицу, строками которой являются категории кредитного рейтинга (CreditScoreCat), а столбцами — количество лет, в течение которых клиент пользуется услугами банка (Tenure). В ячейках сводной таблицы должно находиться среднее по признаку оттока (Exited) — доля ушедших пользователей. На основе полученной сводной таблицы постройте тепловую карту с аннотацией. Найдите на тепловой карте категории клиентов, которые уходят чаще всего."
   ]
  },
  {
   "cell_type": "code",
   "execution_count": null,
   "metadata": {},
   "outputs": [],
   "source": [
    "\n",
    "def get_credit_score_cat(credit_score):\n",
    "    if credit_score >= 300 and credit_score < 500:\n",
    "        return \"Very_Poor\"\n",
    "    elif credit_score >= 500 and credit_score < 601:\n",
    "        return \"Poor\"\n",
    "    elif credit_score >= 601 and credit_score < 661:\n",
    "        return \"Fair\"\n",
    "    elif credit_score >= 661 and credit_score < 781:\n",
    "        return \"Good\"\n",
    "    elif credit_score >= 781 and credit_score < 851:\n",
    "        return \"Excellent\"\n",
    "    elif credit_score >= 851:\n",
    "        return \"Top\"\n",
    "    elif credit_score < 300:\n",
    "        return \"Deep\"\n",
    "    \n",
    "churn_data['CreditScoreCat'] = churn_data['CreditScore'].apply(get_credit_score_cat)\n",
    "\n",
    "pivot = churn_data.pivot_table(\n",
    "    'Exited',\n",
    "    index='CreditScoreCat',\n",
    "    columns='Tenure',\n",
    "    aggfunc='mean'\n",
    ")\n",
    "fig = px.imshow(\n",
    "    pivot,\n",
    "    height=500,\n",
    "    width=1000,\n",
    "    title='Тепловая карта распределения среднего оттока клиентов',\n",
    ")\n",
    "fig.update_layout(xaxis_title=\"Количество лет в течение которых клиент пользуется услугами банка\", yaxis_title=\"Категориальный признак рейтинга\")\n",
    "display(churn_data)\n",
    "fig.show()"
   ]
  },
  {
   "cell_type": "markdown",
   "metadata": {},
   "source": [
    "### Выводы: чаще всего уходят клиенты с самым низким кредитным рейтингом, которые не пользуются услугами банка даже одного года. Вообще в принципе чащевсего уходят клиенты с низким кредитным рейтингом. Так же следует обратить внимание на группы клиентов с самым высоким кредитным рейтингом которые не пользуются услугами банка даже года, либо наоборот являются клиентами банка уже 9-10 лет"
   ]
  }
 ],
 "metadata": {
  "kernelspec": {
   "display_name": "Python 3.9.12 ('base')",
   "language": "python",
   "name": "python3"
  },
  "language_info": {
   "codemirror_mode": {
    "name": "ipython",
    "version": 3
   },
   "file_extension": ".py",
   "mimetype": "text/x-python",
   "name": "python",
   "nbconvert_exporter": "python",
   "pygments_lexer": "ipython3",
   "version": "3.9.12"
  },
  "orig_nbformat": 4,
  "vscode": {
   "interpreter": {
    "hash": "16f5b46f222e2a3e8d4adbf7141cae37b71ed37616e60735fa5d1164a1bc3ada"
   }
  }
 },
 "nbformat": 4,
 "nbformat_minor": 2
}
