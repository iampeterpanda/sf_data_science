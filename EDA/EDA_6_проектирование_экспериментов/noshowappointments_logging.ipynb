{
  "cells": [
    {
      "cell_type": "markdown",
      "metadata": {
        "id": "aUAqi67vLzhL"
      },
      "source": [
        "# Импорт библиотек"
      ]
    },
    {
      "cell_type": "code",
      "execution_count": 1,
      "metadata": {
        "id": "lXinfUuSL6Og"
      },
      "outputs": [],
      "source": [
        "import pandas as pd \n",
        "\n",
        "import os\n",
        "import logging"
      ]
    },
    {
      "cell_type": "markdown",
      "metadata": {
        "id": "y3290WaEMCCM"
      },
      "source": [
        "# Загрузка данных"
      ]
    },
    {
      "cell_type": "code",
      "execution_count": 2,
      "metadata": {
        "id": "VbAf186tLgqb"
      },
      "outputs": [],
      "source": [
        "df = pd.read_csv('data/KaggleV2-May-2016.csv')"
      ]
    },
    {
      "cell_type": "markdown",
      "metadata": {
        "id": "hIlLTfPPz3VG"
      },
      "source": [
        "# Логирование информации о данных"
      ]
    },
    {
      "cell_type": "code",
      "execution_count": 3,
      "metadata": {
        "id": "heuTVTZ6vvHd"
      },
      "outputs": [],
      "source": [
        "# Функция для создания лог-файла и записи в него информации\n",
        "def get_logger(path, file):\n",
        "   \"\"\"[Создает лог-файл для логирования в него]\n",
        "   Аргументы:\n",
        "       path {string} -- путь к директории\n",
        "       file {string} -- имя файла\n",
        "  \n",
        "   Возвращает:\n",
        "       [obj] -- [логер]\n",
        "   \"\"\"\n",
        " \n",
        "   # проверяем, существует ли файл\n",
        "   log_file = os.path.join(path, file)\n",
        " \n",
        "   if not os.path.isfile(log_file):\n",
        "       open(log_file, \"w+\").close()\n",
        " \n",
        "   # поменяем формат логирования\n",
        "   file_logging_format = \"%(levelname)s: %(asctime)s: %(message)s\"\n",
        " \n",
        "   # конфигурируем лог-файл\n",
        "   logging.basicConfig(level=logging.INFO, \n",
        "   format = file_logging_format)\n",
        "   logger = logging.getLogger()\n",
        "  \n",
        "   # создадим хэнлдер для записи лога в файл\n",
        "   handler = logging.FileHandler(log_file)\n",
        " \n",
        "   # установим уровень логирования\n",
        "   handler.setLevel(logging.INFO)\n",
        "  \n",
        "   # создадим формат логирования, используя file_logging_format\n",
        "   formatter = logging.Formatter(file_logging_format)\n",
        "   handler.setFormatter(formatter)\n",
        " \n",
        "   # добавим хэндлер лог-файлу\n",
        "   logger.addHandler(handler)\n",
        " \n",
        "   return logger"
      ]
    },
    {
      "cell_type": "code",
      "execution_count": 4,
      "metadata": {
        "colab": {
          "base_uri": "https://localhost:8080/"
        },
        "id": "7YrkW6YnwGtS",
        "outputId": "ce745a05-cb06-45f6-c3cf-f628e317f94e"
      },
      "outputs": [],
      "source": [
        "# создаем папку для логирования\n",
        "!mkdir logs"
      ]
    },
    {
      "cell_type": "code",
      "execution_count": 5,
      "metadata": {
        "id": "26Fl0Sjdv-C2"
      },
      "outputs": [],
      "source": [
        "# создаем лог-файл\n",
        "logger = get_logger(path=\"logs/\", file=\"data.logs\")"
      ]
    },
    {
      "cell_type": "code",
      "execution_count": 6,
      "metadata": {
        "colab": {
          "base_uri": "https://localhost:8080/"
        },
        "id": "eEsvaL4vv-mO",
        "outputId": "2801c710-7805-4a14-de7b-5908209aa6e3"
      },
      "outputs": [
        {
          "name": "stderr",
          "output_type": "stream",
          "text": [
            "INFO: 2023-01-21 18:06:23,560: Data\n"
          ]
        }
      ],
      "source": [
        "logger.info(\"Data\")"
      ]
    },
    {
      "cell_type": "code",
      "execution_count": 7,
      "metadata": {
        "colab": {
          "base_uri": "https://localhost:8080/"
        },
        "id": "HEOhNMk8wSXG",
        "outputId": "341ad825-2180-45f2-a7ee-aee6e7ddab6d"
      },
      "outputs": [
        {
          "name": "stderr",
          "output_type": "stream",
          "text": [
            "INFO: 2023-01-21 18:08:18,833: Data shape (110527, 14)\n"
          ]
        }
      ],
      "source": [
        "logger.info(\"Data shape {}\".format(df.shape))"
      ]
    },
    {
      "cell_type": "code",
      "execution_count": 8,
      "metadata": {
        "colab": {
          "base_uri": "https://localhost:8080/"
        },
        "id": "tODTr_-Lwa7j",
        "outputId": "eb845614-8d34-4001-8f4e-8e2d1f17bf32"
      },
      "outputs": [
        {
          "name": "stderr",
          "output_type": "stream",
          "text": [
            "INFO: 2023-01-21 18:08:21,300: Percentage of women: 0.653882342398853\n"
          ]
        }
      ],
      "source": [
        "logger.info(\"Percentage of women: {}\".format(df[df['No-show']=='Yes']['Gender'].value_counts(True)[0]))"
      ]
    },
    {
      "cell_type": "code",
      "execution_count": 9,
      "metadata": {
        "colab": {
          "base_uri": "https://localhost:8080/"
        },
        "id": "Yrs_ikOi7e92",
        "outputId": "e8500713-9cb9-4a3a-849c-ec02b132c5b2"
      },
      "outputs": [
        {
          "name": "stderr",
          "output_type": "stream",
          "text": [
            "INFO: 2023-01-21 18:08:27,725: Percentage of men: 0.346117657601147\n"
          ]
        }
      ],
      "source": [
        "logger.info(\"Percentage of men: {}\".format(df[df['No-show']=='Yes']['Gender'].value_counts(True)[1]))"
      ]
    },
    {
      "cell_type": "code",
      "execution_count": null,
      "metadata": {
        "id": "Yf_j1MN875RV"
      },
      "outputs": [],
      "source": []
    },
    {
      "cell_type": "code",
      "execution_count": 10,
      "metadata": {
        "colab": {
          "base_uri": "https://localhost:8080/"
        },
        "id": "kdcs0ys575c_",
        "outputId": "bd2da9f1-29c7-497a-be40-f3c76f7218ba"
      },
      "outputs": [
        {
          "name": "stderr",
          "output_type": "stream",
          "text": [
            "ERROR: 2023-01-21 18:11:15,662: Data shape is incorrect!\n"
          ]
        }
      ],
      "source": [
        "if df.shape != (110526,14):\n",
        "  logger.error('Data shape is incorrect!')"
      ]
    },
    {
      "cell_type": "code",
      "execution_count": 11,
      "metadata": {},
      "outputs": [
        {
          "name": "stdout",
          "output_type": "stream",
          "text": [
            "Collecting comet_mlNote: you may need to restart the kernel to use updated packages.\n",
            "  Downloading comet_ml-3.31.22-py3-none-any.whl (450 kB)\n",
            "Requirement already satisfied: jsonschema!=3.1.0,>=2.6.0 in e:\\anaconda3\\lib\\site-packages (from comet_ml) (4.4.0)\n",
            "\n",
            "Collecting simplejson\n",
            "  Downloading simplejson-3.18.1-cp39-cp39-win_amd64.whl (74 kB)\n",
            "Collecting semantic-version>=2.8.0\n"
          ]
        },
        {
          "name": "stderr",
          "output_type": "stream",
          "text": [
            "WARNING: Ignoring invalid distribution -lotly (e:\\anaconda3\\lib\\site-packages)\n",
            "WARNING: Ignoring invalid distribution -atplotlib (e:\\anaconda3\\lib\\site-packages)\n",
            "WARNING: Ignoring invalid distribution -lotly (e:\\anaconda3\\lib\\site-packages)\n",
            "WARNING: Ignoring invalid distribution -atplotlib (e:\\anaconda3\\lib\\site-packages)\n",
            "WARNING: Ignoring invalid distribution -lotly (e:\\anaconda3\\lib\\site-packages)\n",
            "WARNING: Ignoring invalid distribution -atplotlib (e:\\anaconda3\\lib\\site-packages)\n",
            "    WARNING: Ignoring invalid distribution -lotly (e:\\anaconda3\\lib\\site-packages)\n",
            "    WARNING: Ignoring invalid distribution -atplotlib (e:\\anaconda3\\lib\\site-packages)\n",
            "WARNING: Ignoring invalid distribution -lotly (e:\\anaconda3\\lib\\site-packages)\n",
            "WARNING: Ignoring invalid distribution -atplotlib (e:\\anaconda3\\lib\\site-packages)\n",
            "WARNING: Ignoring invalid distribution -lotly (e:\\anaconda3\\lib\\site-packages)\n",
            "WARNING: Ignoring invalid distribution -atplotlib (e:\\anaconda3\\lib\\site-packages)\n",
            "WARNING: Ignoring invalid distribution -lotly (e:\\anaconda3\\lib\\site-packages)\n",
            "WARNING: Ignoring invalid distribution -atplotlib (e:\\anaconda3\\lib\\site-packages)\n",
            "WARNING: Ignoring invalid distribution -lotly (e:\\anaconda3\\lib\\site-packages)\n",
            "WARNING: Ignoring invalid distribution -atplotlib (e:\\anaconda3\\lib\\site-packages)\n",
            "WARNING: Ignoring invalid distribution -lotly (e:\\anaconda3\\lib\\site-packages)\n",
            "WARNING: Ignoring invalid distribution -atplotlib (e:\\anaconda3\\lib\\site-packages)\n",
            "WARNING: Ignoring invalid distribution -lotly (e:\\anaconda3\\lib\\site-packages)\n",
            "WARNING: Ignoring invalid distribution -atplotlib (e:\\anaconda3\\lib\\site-packages)\n",
            "WARNING: Ignoring invalid distribution -lotly (e:\\anaconda3\\lib\\site-packages)\n",
            "WARNING: Ignoring invalid distribution -atplotlib (e:\\anaconda3\\lib\\site-packages)\n",
            "WARNING: Ignoring invalid distribution -lotly (e:\\anaconda3\\lib\\site-packages)\n",
            "WARNING: Ignoring invalid distribution -atplotlib (e:\\anaconda3\\lib\\site-packages)\n",
            "WARNING: Ignoring invalid distribution -lotly (e:\\anaconda3\\lib\\site-packages)\n",
            "WARNING: Ignoring invalid distribution -atplotlib (e:\\anaconda3\\lib\\site-packages)\n",
            "WARNING: Ignoring invalid distribution -lotly (e:\\anaconda3\\lib\\site-packages)\n",
            "WARNING: Ignoring invalid distribution -atplotlib (e:\\anaconda3\\lib\\site-packages)\n",
            "ERROR: pip's dependency resolver does not currently take into account all the packages that are installed. This behaviour is the source of the following dependency conflicts.\n",
            "conda-repo-cli 1.0.4 requires pathlib, which is not installed.\n",
            "anaconda-project 0.10.2 requires ruamel-yaml, which is not installed.\n",
            "pandas-profiling 3.5.0 requires scipy<1.10,>=1.4.1, but you have scipy 1.10.0 which is incompatible.\n",
            "WARNING: Ignoring invalid distribution -lotly (e:\\anaconda3\\lib\\site-packages)\n",
            "WARNING: Ignoring invalid distribution -atplotlib (e:\\anaconda3\\lib\\site-packages)\n",
            "WARNING: Ignoring invalid distribution -lotly (e:\\anaconda3\\lib\\site-packages)\n",
            "WARNING: Ignoring invalid distribution -atplotlib (e:\\anaconda3\\lib\\site-packages)\n",
            "WARNING: Ignoring invalid distribution -lotly (e:\\anaconda3\\lib\\site-packages)\n",
            "WARNING: Ignoring invalid distribution -atplotlib (e:\\anaconda3\\lib\\site-packages)\n"
          ]
        },
        {
          "name": "stdout",
          "output_type": "stream",
          "text": [
            "  Downloading semantic_version-2.10.0-py2.py3-none-any.whl (15 kB)\n",
            "Collecting requests-toolbelt>=0.8.0\n",
            "  Downloading requests_toolbelt-0.10.1-py2.py3-none-any.whl (54 kB)\n",
            "Collecting sentry-sdk>=1.1.0\n",
            "  Downloading sentry_sdk-1.13.0-py2.py3-none-any.whl (177 kB)\n",
            "Requirement already satisfied: requests>=2.18.4 in e:\\anaconda3\\lib\\site-packages (from comet_ml) (2.27.1)\n",
            "Requirement already satisfied: wrapt>=1.11.2 in e:\\anaconda3\\lib\\site-packages (from comet_ml) (1.12.1)\n",
            "Collecting wurlitzer>=1.0.2\n",
            "  Downloading wurlitzer-3.0.3-py3-none-any.whl (7.3 kB)\n",
            "Requirement already satisfied: six in e:\\anaconda3\\lib\\site-packages (from comet_ml) (1.16.0)\n",
            "Collecting everett[ini]>=1.0.1\n",
            "  Downloading everett-3.1.0-py2.py3-none-any.whl (35 kB)\n",
            "Requirement already satisfied: websocket-client<1.4.0,>=0.55.0 in e:\\anaconda3\\lib\\site-packages (from comet_ml) (0.58.0)\n",
            "Collecting dulwich!=0.20.33,>=0.20.6\n",
            "  Downloading dulwich-0.21.2-cp39-cp39-win_amd64.whl (478 kB)\n",
            "Requirement already satisfied: urllib3>=1.25 in e:\\anaconda3\\lib\\site-packages (from dulwich!=0.20.33,>=0.20.6->comet_ml) (1.26.9)\n",
            "Collecting configobj\n",
            "  Downloading configobj-5.0.8-py2.py3-none-any.whl (36 kB)\n",
            "Requirement already satisfied: attrs>=17.4.0 in e:\\anaconda3\\lib\\site-packages (from jsonschema!=3.1.0,>=2.6.0->comet_ml) (21.4.0)\n",
            "Requirement already satisfied: pyrsistent!=0.17.0,!=0.17.1,!=0.17.2,>=0.14.0 in e:\\anaconda3\\lib\\site-packages (from jsonschema!=3.1.0,>=2.6.0->comet_ml) (0.18.0)\n",
            "Requirement already satisfied: idna<4,>=2.5 in e:\\anaconda3\\lib\\site-packages (from requests>=2.18.4->comet_ml) (3.3)\n",
            "Requirement already satisfied: charset-normalizer~=2.0.0 in e:\\anaconda3\\lib\\site-packages (from requests>=2.18.4->comet_ml) (2.0.4)\n",
            "Requirement already satisfied: certifi>=2017.4.17 in e:\\anaconda3\\lib\\site-packages (from requests>=2.18.4->comet_ml) (2021.10.8)\n",
            "Collecting urllib3>=1.25\n",
            "  Downloading urllib3-1.26.14-py2.py3-none-any.whl (140 kB)\n",
            "Installing collected packages: urllib3, everett, configobj, wurlitzer, simplejson, sentry-sdk, semantic-version, requests-toolbelt, dulwich, comet-ml\n",
            "  Attempting uninstall: urllib3\n",
            "    Found existing installation: urllib3 1.26.9\n",
            "    Uninstalling urllib3-1.26.9:\n",
            "      Successfully uninstalled urllib3-1.26.9\n",
            "Successfully installed comet-ml-3.31.22 configobj-5.0.8 dulwich-0.21.2 everett-3.1.0 requests-toolbelt-0.10.1 semantic-version-2.10.0 sentry-sdk-1.13.0 simplejson-3.18.1 urllib3-1.26.14 wurlitzer-3.0.3\n"
          ]
        }
      ],
      "source": [
        "pip install comet_ml"
      ]
    },
    {
      "cell_type": "code",
      "execution_count": 13,
      "metadata": {},
      "outputs": [
        {
          "name": "stderr",
          "output_type": "stream",
          "text": [
            "COMET INFO: ---------------------------\n",
            "COMET INFO: Comet.ml Experiment Summary\n",
            "COMET INFO: ---------------------------\n",
            "COMET INFO:   Data:\n",
            "COMET INFO:     display_summary_level : 1\n",
            "COMET INFO:     url                   : https://www.comet.com/iampeterpanda/medical-appointment/73059f1185e04daaad4de9ecc5f71436\n",
            "COMET INFO:   Uploads:\n",
            "COMET INFO:     conda-environment-definition : 1\n",
            "COMET INFO:     conda-info                   : 1\n",
            "COMET INFO:     conda-specification          : 1\n",
            "COMET INFO:     environment details          : 1\n",
            "COMET INFO:     filename                     : 1\n",
            "COMET INFO:     git metadata                 : 1\n",
            "COMET INFO:     git-patch (uncompressed)     : 1 (15.77 KB)\n",
            "COMET INFO:     installed packages           : 1\n",
            "COMET INFO:     notebook                     : 1\n",
            "COMET INFO:     source_code                  : 1\n",
            "COMET INFO: ---------------------------\n",
            "COMET WARNING: As you are running in a Jupyter environment, you will need to call `experiment.end()` when finished to ensure all metrics and code are logged before exiting.\n",
            "COMET INFO: Experiment is live on comet.com https://www.comet.com/iampeterpanda/medical-appointment/e5805a1e625e40008157e97c797389f6\n",
            "\n"
          ]
        }
      ],
      "source": [
        "from comet_ml import Experiment\n",
        "# import comet_ml at the top of your file\n",
        "from comet_ml import Experiment\n",
        "\n",
        "# Create an experiment with your api key\n",
        "experiment = Experiment(\n",
        "    api_key=\"ahAEkmxDC17b6w0Vtqb98O4ww\",\n",
        "    project_name=\"medical-appointment\",\n",
        "    workspace=\"iampeterpanda\",\n",
        ")"
      ]
    }
  ],
  "metadata": {
    "colab": {
      "collapsed_sections": [],
      "name": "noshowappointments_logging.ipynb",
      "provenance": []
    },
    "kernelspec": {
      "display_name": "base",
      "language": "python",
      "name": "python3"
    },
    "language_info": {
      "codemirror_mode": {
        "name": "ipython",
        "version": 3
      },
      "file_extension": ".py",
      "mimetype": "text/x-python",
      "name": "python",
      "nbconvert_exporter": "python",
      "pygments_lexer": "ipython3",
      "version": "3.9.12 (main, Apr  4 2022, 05:22:27) [MSC v.1916 64 bit (AMD64)]"
    },
    "nteract": {
      "version": "0.28.0"
    },
    "vscode": {
      "interpreter": {
        "hash": "16f5b46f222e2a3e8d4adbf7141cae37b71ed37616e60735fa5d1164a1bc3ada"
      }
    }
  },
  "nbformat": 4,
  "nbformat_minor": 0
}
