{
 "cells": [
  {
   "cell_type": "code",
   "execution_count": 112,
   "metadata": {},
   "outputs": [],
   "source": [
    "import pandas as pd\n",
    "import plotly.express  as px"
   ]
  },
  {
   "cell_type": "code",
   "execution_count": 113,
   "metadata": {},
   "outputs": [
    {
     "data": {
      "text/html": [
       "<div>\n",
       "<style scoped>\n",
       "    .dataframe tbody tr th:only-of-type {\n",
       "        vertical-align: middle;\n",
       "    }\n",
       "\n",
       "    .dataframe tbody tr th {\n",
       "        vertical-align: top;\n",
       "    }\n",
       "\n",
       "    .dataframe thead th {\n",
       "        text-align: right;\n",
       "    }\n",
       "</style>\n",
       "<table border=\"1\" class=\"dataframe\">\n",
       "  <thead>\n",
       "    <tr style=\"text-align: right;\">\n",
       "      <th></th>\n",
       "      <th>date</th>\n",
       "      <th>cum_power</th>\n",
       "    </tr>\n",
       "  </thead>\n",
       "  <tbody>\n",
       "    <tr>\n",
       "      <th>0</th>\n",
       "      <td>2017-01-01</td>\n",
       "      <td>20111.0</td>\n",
       "    </tr>\n",
       "    <tr>\n",
       "      <th>1</th>\n",
       "      <td>2017-01-02</td>\n",
       "      <td>20112.0</td>\n",
       "    </tr>\n",
       "    <tr>\n",
       "      <th>2</th>\n",
       "      <td>2017-01-03</td>\n",
       "      <td>20115.0</td>\n",
       "    </tr>\n",
       "    <tr>\n",
       "      <th>3</th>\n",
       "      <td>2017-01-04</td>\n",
       "      <td>20117.0</td>\n",
       "    </tr>\n",
       "    <tr>\n",
       "      <th>4</th>\n",
       "      <td>2017-01-05</td>\n",
       "      <td>20119.0</td>\n",
       "    </tr>\n",
       "  </tbody>\n",
       "</table>\n",
       "</div>"
      ],
      "text/plain": [
       "         date  cum_power\n",
       "0  2017-01-01    20111.0\n",
       "1  2017-01-02    20112.0\n",
       "2  2017-01-03    20115.0\n",
       "3  2017-01-04    20117.0\n",
       "4  2017-01-05    20119.0"
      ]
     },
     "execution_count": 113,
     "metadata": {},
     "output_type": "execute_result"
    }
   ],
   "source": [
    "solar_data = pd.read_csv('data/solarpower.csv')\n",
    "solar_data.head()"
   ]
  },
  {
   "cell_type": "code",
   "execution_count": 114,
   "metadata": {},
   "outputs": [
    {
     "name": "stdout",
     "output_type": "stream",
     "text": [
      "23776\n"
     ]
    }
   ],
   "source": [
    "print(round(solar_data['cum_power'].mean()))"
   ]
  },
  {
   "cell_type": "code",
   "execution_count": 115,
   "metadata": {},
   "outputs": [
    {
     "name": "stderr",
     "output_type": "stream",
     "text": [
      "C:\\Users\\User\\AppData\\Local\\Temp\\ipykernel_9256\\250598976.py:3: SettingWithCopyWarning:\n",
      "\n",
      "\n",
      "A value is trying to be set on a copy of a slice from a DataFrame\n",
      "\n",
      "See the caveats in the documentation: https://pandas.pydata.org/pandas-docs/stable/user_guide/indexing.html#returning-a-view-versus-a-copy\n",
      "\n"
     ]
    }
   ],
   "source": [
    "for i in range(len(solar_data['cum_power'])): \n",
    "    if solar_data['cum_power'][i] == -1:\n",
    "        solar_data['cum_power'][i] = (solar_data['cum_power'][i-1] + solar_data['cum_power'][i+1])/2"
   ]
  },
  {
   "cell_type": "code",
   "execution_count": 116,
   "metadata": {},
   "outputs": [
    {
     "name": "stdout",
     "output_type": "stream",
     "text": [
      "23848\n"
     ]
    }
   ],
   "source": [
    "print(round(solar_data['cum_power'].mean()))"
   ]
  },
  {
   "cell_type": "code",
   "execution_count": 117,
   "metadata": {},
   "outputs": [],
   "source": [
    "solar_data['date'] = pd.to_datetime(solar_data['date'], dayfirst = True)"
   ]
  },
  {
   "cell_type": "code",
   "execution_count": 118,
   "metadata": {},
   "outputs": [],
   "source": [
    "solar_data['year'] = solar_data['date'].dt.year\n",
    "solar_data['month'] = solar_data['date'].dt.month\n"
   ]
  },
  {
   "cell_type": "code",
   "execution_count": 122,
   "metadata": {},
   "outputs": [
    {
     "data": {
      "text/html": [
       "<div>\n",
       "<style scoped>\n",
       "    .dataframe tbody tr th:only-of-type {\n",
       "        vertical-align: middle;\n",
       "    }\n",
       "\n",
       "    .dataframe tbody tr th {\n",
       "        vertical-align: top;\n",
       "    }\n",
       "\n",
       "    .dataframe thead th {\n",
       "        text-align: right;\n",
       "    }\n",
       "</style>\n",
       "<table border=\"1\" class=\"dataframe\">\n",
       "  <thead>\n",
       "    <tr style=\"text-align: right;\">\n",
       "      <th></th>\n",
       "      <th></th>\n",
       "      <th>cum_power</th>\n",
       "    </tr>\n",
       "    <tr>\n",
       "      <th>year</th>\n",
       "      <th>month</th>\n",
       "      <th></th>\n",
       "    </tr>\n",
       "  </thead>\n",
       "  <tbody>\n",
       "    <tr>\n",
       "      <th rowspan=\"12\" valign=\"top\">2017</th>\n",
       "      <th>1</th>\n",
       "      <td>650.099896</td>\n",
       "    </tr>\n",
       "    <tr>\n",
       "      <th>2</th>\n",
       "      <td>653.452765</td>\n",
       "    </tr>\n",
       "    <tr>\n",
       "      <th>3</th>\n",
       "      <td>659.502601</td>\n",
       "    </tr>\n",
       "    <tr>\n",
       "      <th>4</th>\n",
       "      <td>673.710753</td>\n",
       "    </tr>\n",
       "    <tr>\n",
       "      <th>5</th>\n",
       "      <td>690.583767</td>\n",
       "    </tr>\n",
       "    <tr>\n",
       "      <th>6</th>\n",
       "      <td>711.878495</td>\n",
       "    </tr>\n",
       "    <tr>\n",
       "      <th>7</th>\n",
       "      <td>731.196670</td>\n",
       "    </tr>\n",
       "    <tr>\n",
       "      <th>8</th>\n",
       "      <td>747.699272</td>\n",
       "    </tr>\n",
       "    <tr>\n",
       "      <th>9</th>\n",
       "      <td>760.433333</td>\n",
       "    </tr>\n",
       "    <tr>\n",
       "      <th>10</th>\n",
       "      <td>769.623309</td>\n",
       "    </tr>\n",
       "    <tr>\n",
       "      <th>11</th>\n",
       "      <td>774.166667</td>\n",
       "    </tr>\n",
       "    <tr>\n",
       "      <th>12</th>\n",
       "      <td>776.081165</td>\n",
       "    </tr>\n",
       "  </tbody>\n",
       "</table>\n",
       "</div>"
      ],
      "text/plain": [
       "             cum_power\n",
       "year month            \n",
       "2017 1      650.099896\n",
       "     2      653.452765\n",
       "     3      659.502601\n",
       "     4      673.710753\n",
       "     5      690.583767\n",
       "     6      711.878495\n",
       "     7      731.196670\n",
       "     8      747.699272\n",
       "     9      760.433333\n",
       "     10     769.623309\n",
       "     11     774.166667\n",
       "     12     776.081165"
      ]
     },
     "execution_count": 122,
     "metadata": {},
     "output_type": "execute_result"
    }
   ],
   "source": [
    "solar_data.head()\n",
    "solar_data = solar_data.groupby(['year', 'month']).mean()/31\n",
    "\n",
    "\n",
    "solar_data.head(12)"
   ]
  },
  {
   "cell_type": "code",
   "execution_count": 120,
   "metadata": {},
   "outputs": [
    {
     "ename": "ValueError",
     "evalue": "Value of 'x' is not the name of a column in 'data_frame'. Expected one of ['cum_power'] but received: date",
     "output_type": "error",
     "traceback": [
      "\u001b[1;31m---------------------------------------------------------------------------\u001b[0m",
      "\u001b[1;31mValueError\u001b[0m                                Traceback (most recent call last)",
      "\u001b[1;32me:\\IDE\\Attestation_1\\notebook.ipynb Ячейка 9\u001b[0m in \u001b[0;36m<cell line: 1>\u001b[1;34m()\u001b[0m\n\u001b[1;32m----> <a href='vscode-notebook-cell:/e%3A/IDE/Attestation_1/notebook.ipynb#W5sZmlsZQ%3D%3D?line=0'>1</a>\u001b[0m fig \u001b[39m=\u001b[39m px\u001b[39m.\u001b[39;49mline(solar_data, \n\u001b[0;32m      <a href='vscode-notebook-cell:/e%3A/IDE/Attestation_1/notebook.ipynb#W5sZmlsZQ%3D%3D?line=1'>2</a>\u001b[0m               x\u001b[39m=\u001b[39;49m\u001b[39m'\u001b[39;49m\u001b[39mdate\u001b[39;49m\u001b[39m'\u001b[39;49m,\n\u001b[0;32m      <a href='vscode-notebook-cell:/e%3A/IDE/Attestation_1/notebook.ipynb#W5sZmlsZQ%3D%3D?line=2'>3</a>\u001b[0m               y\u001b[39m=\u001b[39;49m\u001b[39m'\u001b[39;49m\u001b[39mcum_power\u001b[39;49m\u001b[39m'\u001b[39;49m)\n\u001b[0;32m      <a href='vscode-notebook-cell:/e%3A/IDE/Attestation_1/notebook.ipynb#W5sZmlsZQ%3D%3D?line=3'>4</a>\u001b[0m fig\u001b[39m.\u001b[39mshow()\n",
      "File \u001b[1;32me:\\anaconda3\\lib\\site-packages\\plotly\\express\\_chart_types.py:260\u001b[0m, in \u001b[0;36mline\u001b[1;34m(data_frame, x, y, line_group, color, line_dash, symbol, hover_name, hover_data, custom_data, text, facet_row, facet_col, facet_col_wrap, facet_row_spacing, facet_col_spacing, error_x, error_x_minus, error_y, error_y_minus, animation_frame, animation_group, category_orders, labels, orientation, color_discrete_sequence, color_discrete_map, line_dash_sequence, line_dash_map, symbol_sequence, symbol_map, markers, log_x, log_y, range_x, range_y, line_shape, render_mode, title, template, width, height)\u001b[0m\n\u001b[0;32m    212\u001b[0m \u001b[39mdef\u001b[39;00m \u001b[39mline\u001b[39m(\n\u001b[0;32m    213\u001b[0m     data_frame\u001b[39m=\u001b[39m\u001b[39mNone\u001b[39;00m,\n\u001b[0;32m    214\u001b[0m     x\u001b[39m=\u001b[39m\u001b[39mNone\u001b[39;00m,\n\u001b[1;32m   (...)\u001b[0m\n\u001b[0;32m    254\u001b[0m     height\u001b[39m=\u001b[39m\u001b[39mNone\u001b[39;00m,\n\u001b[0;32m    255\u001b[0m ):\n\u001b[0;32m    256\u001b[0m     \u001b[39m\"\"\"\u001b[39;00m\n\u001b[0;32m    257\u001b[0m \u001b[39m    In a 2D line plot, each row of `data_frame` is represented as vertex of\u001b[39;00m\n\u001b[0;32m    258\u001b[0m \u001b[39m    a polyline mark in 2D space.\u001b[39;00m\n\u001b[0;32m    259\u001b[0m \u001b[39m    \"\"\"\u001b[39;00m\n\u001b[1;32m--> 260\u001b[0m     \u001b[39mreturn\u001b[39;00m make_figure(args\u001b[39m=\u001b[39;49m\u001b[39mlocals\u001b[39;49m(), constructor\u001b[39m=\u001b[39;49mgo\u001b[39m.\u001b[39;49mScatter)\n",
      "File \u001b[1;32me:\\anaconda3\\lib\\site-packages\\plotly\\express\\_core.py:1933\u001b[0m, in \u001b[0;36mmake_figure\u001b[1;34m(args, constructor, trace_patch, layout_patch)\u001b[0m\n\u001b[0;32m   1930\u001b[0m layout_patch \u001b[39m=\u001b[39m layout_patch \u001b[39mor\u001b[39;00m {}\n\u001b[0;32m   1931\u001b[0m apply_default_cascade(args)\n\u001b[1;32m-> 1933\u001b[0m args \u001b[39m=\u001b[39m build_dataframe(args, constructor)\n\u001b[0;32m   1934\u001b[0m \u001b[39mif\u001b[39;00m constructor \u001b[39min\u001b[39;00m [go\u001b[39m.\u001b[39mTreemap, go\u001b[39m.\u001b[39mSunburst, go\u001b[39m.\u001b[39mIcicle] \u001b[39mand\u001b[39;00m args[\u001b[39m\"\u001b[39m\u001b[39mpath\u001b[39m\u001b[39m\"\u001b[39m] \u001b[39mis\u001b[39;00m \u001b[39mnot\u001b[39;00m \u001b[39mNone\u001b[39;00m:\n\u001b[0;32m   1935\u001b[0m     args \u001b[39m=\u001b[39m process_dataframe_hierarchy(args)\n",
      "File \u001b[1;32me:\\anaconda3\\lib\\site-packages\\plotly\\express\\_core.py:1405\u001b[0m, in \u001b[0;36mbuild_dataframe\u001b[1;34m(args, constructor)\u001b[0m\n\u001b[0;32m   1402\u001b[0m     args[\u001b[39m\"\u001b[39m\u001b[39mcolor\u001b[39m\u001b[39m\"\u001b[39m] \u001b[39m=\u001b[39m \u001b[39mNone\u001b[39;00m\n\u001b[0;32m   1403\u001b[0m \u001b[39m# now that things have been prepped, we do the systematic rewriting of `args`\u001b[39;00m\n\u001b[1;32m-> 1405\u001b[0m df_output, wide_id_vars \u001b[39m=\u001b[39m process_args_into_dataframe(\n\u001b[0;32m   1406\u001b[0m     args, wide_mode, var_name, value_name\n\u001b[0;32m   1407\u001b[0m )\n\u001b[0;32m   1409\u001b[0m \u001b[39m# now that `df_output` exists and `args` contains only references, we complete\u001b[39;00m\n\u001b[0;32m   1410\u001b[0m \u001b[39m# the special-case and wide-mode handling by further rewriting args and/or mutating\u001b[39;00m\n\u001b[0;32m   1411\u001b[0m \u001b[39m# df_output\u001b[39;00m\n\u001b[0;32m   1413\u001b[0m count_name \u001b[39m=\u001b[39m _escape_col_name(df_output, \u001b[39m\"\u001b[39m\u001b[39mcount\u001b[39m\u001b[39m\"\u001b[39m, [var_name, value_name])\n",
      "File \u001b[1;32me:\\anaconda3\\lib\\site-packages\\plotly\\express\\_core.py:1207\u001b[0m, in \u001b[0;36mprocess_args_into_dataframe\u001b[1;34m(args, wide_mode, var_name, value_name)\u001b[0m\n\u001b[0;32m   1205\u001b[0m         \u001b[39mif\u001b[39;00m argument \u001b[39m==\u001b[39m \u001b[39m\"\u001b[39m\u001b[39mindex\u001b[39m\u001b[39m\"\u001b[39m:\n\u001b[0;32m   1206\u001b[0m             err_msg \u001b[39m+\u001b[39m\u001b[39m=\u001b[39m \u001b[39m\"\u001b[39m\u001b[39m\\n\u001b[39;00m\u001b[39m To use the index, pass it in directly as `df.index`.\u001b[39m\u001b[39m\"\u001b[39m\n\u001b[1;32m-> 1207\u001b[0m         \u001b[39mraise\u001b[39;00m \u001b[39mValueError\u001b[39;00m(err_msg)\n\u001b[0;32m   1208\u001b[0m \u001b[39melif\u001b[39;00m length \u001b[39mand\u001b[39;00m \u001b[39mlen\u001b[39m(df_input[argument]) \u001b[39m!=\u001b[39m length:\n\u001b[0;32m   1209\u001b[0m     \u001b[39mraise\u001b[39;00m \u001b[39mValueError\u001b[39;00m(\n\u001b[0;32m   1210\u001b[0m         \u001b[39m\"\u001b[39m\u001b[39mAll arguments should have the same length. \u001b[39m\u001b[39m\"\u001b[39m\n\u001b[0;32m   1211\u001b[0m         \u001b[39m\"\u001b[39m\u001b[39mThe length of column argument `df[\u001b[39m\u001b[39m%s\u001b[39;00m\u001b[39m]` is \u001b[39m\u001b[39m%d\u001b[39;00m\u001b[39m, whereas the \u001b[39m\u001b[39m\"\u001b[39m\n\u001b[1;32m   (...)\u001b[0m\n\u001b[0;32m   1218\u001b[0m         )\n\u001b[0;32m   1219\u001b[0m     )\n",
      "\u001b[1;31mValueError\u001b[0m: Value of 'x' is not the name of a column in 'data_frame'. Expected one of ['cum_power'] but received: date"
     ]
    }
   ],
   "source": [
    "fig = px.line(solar_data, \n",
    "              x='date',\n",
    "              y='cum_power')\n",
    "fig.show()"
   ]
  },
  {
   "cell_type": "code",
   "execution_count": null,
   "metadata": {},
   "outputs": [],
   "source": [
    "pd.read"
   ]
  }
 ],
 "metadata": {
  "kernelspec": {
   "display_name": "Python 3.9.12 ('base')",
   "language": "python",
   "name": "python3"
  },
  "language_info": {
   "codemirror_mode": {
    "name": "ipython",
    "version": 3
   },
   "file_extension": ".py",
   "mimetype": "text/x-python",
   "name": "python",
   "nbconvert_exporter": "python",
   "pygments_lexer": "ipython3",
   "version": "3.9.12"
  },
  "orig_nbformat": 4,
  "vscode": {
   "interpreter": {
    "hash": "16f5b46f222e2a3e8d4adbf7141cae37b71ed37616e60735fa5d1164a1bc3ada"
   }
  }
 },
 "nbformat": 4,
 "nbformat_minor": 2
}
